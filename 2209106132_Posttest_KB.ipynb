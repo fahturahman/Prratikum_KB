{
  "nbformat": 4,
  "nbformat_minor": 0,
  "metadata": {
    "colab": {
      "provenance": []
    },
    "kernelspec": {
      "name": "python3",
      "display_name": "Python 3"
    },
    "language_info": {
      "name": "python"
    }
  },
  "cells": [
    {
      "cell_type": "markdown",
      "source": [
        "# Load Data & Prcessing Data\n"
      ],
      "metadata": {
        "id": "ALuBDmoaeTBK"
      }
    },
    {
      "cell_type": "code",
      "source": [
        "import pandas as pd\n",
        "import tensorflow as tf\n",
        "from sklearn.model_selection import train_test_split\n",
        "from sklearn.preprocessing import StandardScaler\n",
        "\n",
        "# Load the dataset\n",
        "data_path ='/content/ad_click_dataset.csv'\n",
        "data = pd.read_csv(data_path)"
      ],
      "metadata": {
        "id": "VJRhmT7GZe8x"
      },
      "execution_count": 2,
      "outputs": []
    },
    {
      "cell_type": "markdown",
      "source": [
        "Mengonversi variabel kategorikal menjadi format numerik menggunakan one-hot encoding. drop_first=True untuk menghindari masalah multikolinearitas."
      ],
      "metadata": {
        "id": "eVqID4wXeoXv"
      }
    },
    {
      "cell_type": "markdown",
      "source": [
        "# Memisahkan Fitur dan Target\n"
      ],
      "metadata": {
        "id": "zqm1BSOIefk2"
      }
    },
    {
      "cell_type": "code",
      "source": [
        "# Display the first few rows and data types\n",
        "print(data.head())\n",
        "print(data.dtypes)"
      ],
      "metadata": {
        "colab": {
          "base_uri": "https://localhost:8080/"
        },
        "id": "vnUjp8SHaDrM",
        "outputId": "8115c2ee-615c-47bf-b499-de53fa5e3645"
      },
      "execution_count": 3,
      "outputs": [
        {
          "output_type": "stream",
          "name": "stdout",
          "text": [
            "     id full_name   age      gender device_type ad_position browsing_history  \\\n",
            "0   670   User670  22.0         NaN     Desktop         Top         Shopping   \n",
            "1  3044  User3044   NaN        Male     Desktop         Top              NaN   \n",
            "2  5912  User5912  41.0  Non-Binary         NaN        Side        Education   \n",
            "3  5418  User5418  34.0        Male         NaN         NaN    Entertainment   \n",
            "4  9452  User9452  39.0  Non-Binary         NaN         NaN     Social Media   \n",
            "\n",
            "  time_of_day  click  \n",
            "0   Afternoon      1  \n",
            "1         NaN      1  \n",
            "2       Night      1  \n",
            "3     Evening      1  \n",
            "4     Morning      0  \n",
            "id                    int64\n",
            "full_name            object\n",
            "age                 float64\n",
            "gender               object\n",
            "device_type          object\n",
            "ad_position          object\n",
            "browsing_history     object\n",
            "time_of_day          object\n",
            "click                 int64\n",
            "dtype: object\n"
          ]
        }
      ]
    },
    {
      "cell_type": "code",
      "source": [
        "# Convert categorical variables if needed\n",
        "data = pd.get_dummies(data, drop_first=True)"
      ],
      "metadata": {
        "id": "rwGghJo6aTEB"
      },
      "execution_count": 4,
      "outputs": []
    },
    {
      "cell_type": "code",
      "source": [
        "# Check for missing values\n",
        "print(data.isnull().sum())\n",
        "data.fillna(data.mean(), inplace=True)  # or dropna() if preferable\n"
      ],
      "metadata": {
        "colab": {
          "base_uri": "https://localhost:8080/"
        },
        "id": "PGgExCDsaYHS",
        "outputId": "27958399-3dc3-41be-92f4-4715caa3a2df"
      },
      "execution_count": 5,
      "outputs": [
        {
          "output_type": "stream",
          "name": "stdout",
          "text": [
            "id                                  0\n",
            "age                              4766\n",
            "click                               0\n",
            "full_name_User100                   0\n",
            "full_name_User1000                  0\n",
            "                                 ... \n",
            "browsing_history_Shopping           0\n",
            "browsing_history_Social Media       0\n",
            "time_of_day_Evening                 0\n",
            "time_of_day_Morning                 0\n",
            "time_of_day_Night                   0\n",
            "Length: 4015, dtype: int64\n"
          ]
        }
      ]
    },
    {
      "cell_type": "code",
      "source": [
        "# Define features and target\n",
        "X = data.iloc[:, :-1].values  # Features\n",
        "y = data.iloc[:, -1].values   # Target\n"
      ],
      "metadata": {
        "id": "sdUyfjC-adeB"
      },
      "execution_count": 6,
      "outputs": []
    },
    {
      "cell_type": "markdown",
      "source": [
        "Memisahkan data menjadi fitur (X) dan target (y), di mana X adalah semua kolom kecuali kolom terakhir, dan y adalah kolom terakhir.\n"
      ],
      "metadata": {
        "id": "gIxHgK0-fHfJ"
      }
    },
    {
      "cell_type": "markdown",
      "source": [
        "# Membagi data (Splitting) menjadi data testing"
      ],
      "metadata": {
        "id": "fhJfC6Ype3dH"
      }
    },
    {
      "cell_type": "code",
      "source": [
        "# Split into training and testing\n",
        "X_train, X_test, y_train, y_test = train_test_split(X, y, test_size=0.2, random_state=42)"
      ],
      "metadata": {
        "id": "hQoncW_DairF"
      },
      "execution_count": 7,
      "outputs": []
    },
    {
      "cell_type": "markdown",
      "source": [
        "# Standardisasi Fitur"
      ],
      "metadata": {
        "id": "WDmXsGQ5fM9F"
      }
    },
    {
      "cell_type": "code",
      "source": [
        "# Standardize the features\n",
        "scaler = StandardScaler()\n",
        "X_train = scaler.fit_transform(X_train)\n",
        "X_test = scaler.transform(X_test)"
      ],
      "metadata": {
        "id": "Eria8ikgapiU"
      },
      "execution_count": 8,
      "outputs": []
    },
    {
      "cell_type": "markdown",
      "source": [
        "Menstandarkan fitur agar memiliki rata-rata 0 dan deviasi standar 1"
      ],
      "metadata": {
        "id": "8WrWUICTfRTK"
      }
    },
    {
      "cell_type": "markdown",
      "source": [
        "# Mode Sequential"
      ],
      "metadata": {
        "id": "jwPm8NKZfT6f"
      }
    },
    {
      "cell_type": "code",
      "source": [
        "# Build the Sequential model\n",
        "model = tf.keras.Sequential([\n",
        "    tf.keras.layers.Dense(64, activation='relu', input_shape=(X_train.shape[1],)),\n",
        "    tf.keras.layers.Dense(32, activation='relu'),\n",
        "    tf.keras.layers.Dense(16, activation='relu'),\n",
        "    tf.keras.layers.Dense(1, activation='sigmoid')  # Use 'softmax' for multi-class classification\n",
        "])\n"
      ],
      "metadata": {
        "colab": {
          "base_uri": "https://localhost:8080/"
        },
        "id": "JCGNjxDHaxG1",
        "outputId": "1f5964d8-e319-4755-f1eb-f0c0c02f1711"
      },
      "execution_count": 9,
      "outputs": [
        {
          "output_type": "stream",
          "name": "stderr",
          "text": [
            "/usr/local/lib/python3.10/dist-packages/keras/src/layers/core/dense.py:87: UserWarning: Do not pass an `input_shape`/`input_dim` argument to a layer. When using Sequential models, prefer using an `Input(shape)` object as the first layer in the model instead.\n",
            "  super().__init__(activity_regularizer=activity_regularizer, **kwargs)\n"
          ]
        }
      ]
    },
    {
      "cell_type": "markdown",
      "source": [
        "Membangun model dengan beberapa layer:\n",
        " 1. Input Layer: 64 neuron, fungsi aktivasi ReLU.\n",
        " 2. Hidden Layers: 32 dan 16 neuron, fungsi aktivasi ReLU.\n",
        " 3. Output Layer: 1 neuron dengan fungsi aktivasi sigmoid untuk klasifikasi biner."
      ],
      "metadata": {
        "id": "eAAEtz-kfcm1"
      }
    },
    {
      "cell_type": "markdown",
      "source": [
        "# Mengompilasi Model"
      ],
      "metadata": {
        "id": "1hq9weXnfmeY"
      }
    },
    {
      "cell_type": "code",
      "source": [
        "model.compile(optimizer='adam', loss='binary_crossentropy', metrics=['accuracy'])"
      ],
      "metadata": {
        "id": "7MXFiFUja2OS"
      },
      "execution_count": 10,
      "outputs": []
    },
    {
      "cell_type": "markdown",
      "source": [
        "Melatih model selama 50 epoch dengan ukuran batch 32. 20% dari data pelatihan digunakan untuk validasi."
      ],
      "metadata": {
        "id": "YmlpFKoofwRE"
      }
    },
    {
      "cell_type": "markdown",
      "source": [
        "# Melatih Model"
      ],
      "metadata": {
        "id": "12Gja8LXfvQj"
      }
    },
    {
      "cell_type": "code",
      "source": [
        "history = model.fit(X_train, y_train, epochs=50, batch_size=32, validation_split=0.2, verbose=1)"
      ],
      "metadata": {
        "colab": {
          "base_uri": "https://localhost:8080/"
        },
        "id": "yqgEroOha6tz",
        "outputId": "eb903797-7f47-43f0-86c7-76802270291e"
      },
      "execution_count": 11,
      "outputs": [
        {
          "output_type": "stream",
          "name": "stdout",
          "text": [
            "Epoch 1/50\n",
            "\u001b[1m200/200\u001b[0m \u001b[32m━━━━━━━━━━━━━━━━━━━━\u001b[0m\u001b[37m\u001b[0m \u001b[1m5s\u001b[0m 13ms/step - accuracy: 0.8034 - loss: 0.4521 - val_accuracy: 0.8456 - val_loss: 0.2904\n",
            "Epoch 2/50\n",
            "\u001b[1m200/200\u001b[0m \u001b[32m━━━━━━━━━━━━━━━━━━━━\u001b[0m\u001b[37m\u001b[0m \u001b[1m2s\u001b[0m 9ms/step - accuracy: 0.9050 - loss: 0.1837 - val_accuracy: 0.8794 - val_loss: 0.2652\n",
            "Epoch 3/50\n",
            "\u001b[1m200/200\u001b[0m \u001b[32m━━━━━━━━━━━━━━━━━━━━\u001b[0m\u001b[37m\u001b[0m \u001b[1m1s\u001b[0m 6ms/step - accuracy: 0.9625 - loss: 0.0937 - val_accuracy: 0.8737 - val_loss: 0.2791\n",
            "Epoch 4/50\n",
            "\u001b[1m200/200\u001b[0m \u001b[32m━━━━━━━━━━━━━━━━━━━━\u001b[0m\u001b[37m\u001b[0m \u001b[1m1s\u001b[0m 6ms/step - accuracy: 0.9642 - loss: 0.0815 - val_accuracy: 0.8694 - val_loss: 0.2919\n",
            "Epoch 5/50\n",
            "\u001b[1m200/200\u001b[0m \u001b[32m━━━━━━━━━━━━━━━━━━━━\u001b[0m\u001b[37m\u001b[0m \u001b[1m3s\u001b[0m 6ms/step - accuracy: 0.9630 - loss: 0.0791 - val_accuracy: 0.8569 - val_loss: 0.3145\n",
            "Epoch 6/50\n",
            "\u001b[1m200/200\u001b[0m \u001b[32m━━━━━━━━━━━━━━━━━━━━\u001b[0m\u001b[37m\u001b[0m \u001b[1m2s\u001b[0m 5ms/step - accuracy: 0.9641 - loss: 0.0765 - val_accuracy: 0.8494 - val_loss: 0.3351\n",
            "Epoch 7/50\n",
            "\u001b[1m200/200\u001b[0m \u001b[32m━━━━━━━━━━━━━━━━━━━━\u001b[0m\u001b[37m\u001b[0m \u001b[1m1s\u001b[0m 5ms/step - accuracy: 0.9643 - loss: 0.0789 - val_accuracy: 0.8219 - val_loss: 0.3843\n",
            "Epoch 8/50\n",
            "\u001b[1m200/200\u001b[0m \u001b[32m━━━━━━━━━━━━━━━━━━━━\u001b[0m\u001b[37m\u001b[0m \u001b[1m1s\u001b[0m 5ms/step - accuracy: 0.9682 - loss: 0.0742 - val_accuracy: 0.8313 - val_loss: 0.3815\n",
            "Epoch 9/50\n",
            "\u001b[1m200/200\u001b[0m \u001b[32m━━━━━━━━━━━━━━━━━━━━\u001b[0m\u001b[37m\u001b[0m \u001b[1m1s\u001b[0m 5ms/step - accuracy: 0.9680 - loss: 0.0725 - val_accuracy: 0.8363 - val_loss: 0.3865\n",
            "Epoch 10/50\n",
            "\u001b[1m200/200\u001b[0m \u001b[32m━━━━━━━━━━━━━━━━━━━━\u001b[0m\u001b[37m\u001b[0m \u001b[1m1s\u001b[0m 7ms/step - accuracy: 0.9641 - loss: 0.0759 - val_accuracy: 0.8294 - val_loss: 0.3932\n",
            "Epoch 11/50\n",
            "\u001b[1m200/200\u001b[0m \u001b[32m━━━━━━━━━━━━━━━━━━━━\u001b[0m\u001b[37m\u001b[0m \u001b[1m1s\u001b[0m 6ms/step - accuracy: 0.9657 - loss: 0.0756 - val_accuracy: 0.8263 - val_loss: 0.3993\n",
            "Epoch 12/50\n",
            "\u001b[1m200/200\u001b[0m \u001b[32m━━━━━━━━━━━━━━━━━━━━\u001b[0m\u001b[37m\u001b[0m \u001b[1m1s\u001b[0m 6ms/step - accuracy: 0.9662 - loss: 0.0740 - val_accuracy: 0.8256 - val_loss: 0.4123\n",
            "Epoch 13/50\n",
            "\u001b[1m200/200\u001b[0m \u001b[32m━━━━━━━━━━━━━━━━━━━━\u001b[0m\u001b[37m\u001b[0m \u001b[1m2s\u001b[0m 6ms/step - accuracy: 0.9670 - loss: 0.0713 - val_accuracy: 0.8081 - val_loss: 0.4596\n",
            "Epoch 14/50\n",
            "\u001b[1m200/200\u001b[0m \u001b[32m━━━━━━━━━━━━━━━━━━━━\u001b[0m\u001b[37m\u001b[0m \u001b[1m1s\u001b[0m 5ms/step - accuracy: 0.9646 - loss: 0.0750 - val_accuracy: 0.8106 - val_loss: 0.4600\n",
            "Epoch 15/50\n",
            "\u001b[1m200/200\u001b[0m \u001b[32m━━━━━━━━━━━━━━━━━━━━\u001b[0m\u001b[37m\u001b[0m \u001b[1m1s\u001b[0m 5ms/step - accuracy: 0.9663 - loss: 0.0725 - val_accuracy: 0.8175 - val_loss: 0.4378\n",
            "Epoch 16/50\n",
            "\u001b[1m200/200\u001b[0m \u001b[32m━━━━━━━━━━━━━━━━━━━━\u001b[0m\u001b[37m\u001b[0m \u001b[1m1s\u001b[0m 6ms/step - accuracy: 0.9680 - loss: 0.0684 - val_accuracy: 0.8075 - val_loss: 0.4633\n",
            "Epoch 17/50\n",
            "\u001b[1m200/200\u001b[0m \u001b[32m━━━━━━━━━━━━━━━━━━━━\u001b[0m\u001b[37m\u001b[0m \u001b[1m1s\u001b[0m 6ms/step - accuracy: 0.9664 - loss: 0.0723 - val_accuracy: 0.7869 - val_loss: 0.5221\n",
            "Epoch 18/50\n",
            "\u001b[1m200/200\u001b[0m \u001b[32m━━━━━━━━━━━━━━━━━━━━\u001b[0m\u001b[37m\u001b[0m \u001b[1m1s\u001b[0m 6ms/step - accuracy: 0.9659 - loss: 0.0730 - val_accuracy: 0.8062 - val_loss: 0.4786\n",
            "Epoch 19/50\n",
            "\u001b[1m200/200\u001b[0m \u001b[32m━━━━━━━━━━━━━━━━━━━━\u001b[0m\u001b[37m\u001b[0m \u001b[1m1s\u001b[0m 6ms/step - accuracy: 0.9636 - loss: 0.0764 - val_accuracy: 0.8050 - val_loss: 0.4880\n",
            "Epoch 20/50\n",
            "\u001b[1m200/200\u001b[0m \u001b[32m━━━━━━━━━━━━━━━━━━━━\u001b[0m\u001b[37m\u001b[0m \u001b[1m1s\u001b[0m 5ms/step - accuracy: 0.9654 - loss: 0.0750 - val_accuracy: 0.8044 - val_loss: 0.4900\n",
            "Epoch 21/50\n",
            "\u001b[1m200/200\u001b[0m \u001b[32m━━━━━━━━━━━━━━━━━━━━\u001b[0m\u001b[37m\u001b[0m \u001b[1m2s\u001b[0m 8ms/step - accuracy: 0.9672 - loss: 0.0698 - val_accuracy: 0.7906 - val_loss: 0.5210\n",
            "Epoch 22/50\n",
            "\u001b[1m200/200\u001b[0m \u001b[32m━━━━━━━━━━━━━━━━━━━━\u001b[0m\u001b[37m\u001b[0m \u001b[1m2s\u001b[0m 6ms/step - accuracy: 0.9627 - loss: 0.0775 - val_accuracy: 0.7944 - val_loss: 0.5159\n",
            "Epoch 23/50\n",
            "\u001b[1m200/200\u001b[0m \u001b[32m━━━━━━━━━━━━━━━━━━━━\u001b[0m\u001b[37m\u001b[0m \u001b[1m2s\u001b[0m 5ms/step - accuracy: 0.9687 - loss: 0.0703 - val_accuracy: 0.7869 - val_loss: 0.5499\n",
            "Epoch 24/50\n",
            "\u001b[1m200/200\u001b[0m \u001b[32m━━━━━━━━━━━━━━━━━━━━\u001b[0m\u001b[37m\u001b[0m \u001b[1m1s\u001b[0m 5ms/step - accuracy: 0.9643 - loss: 0.0736 - val_accuracy: 0.7837 - val_loss: 0.5523\n",
            "Epoch 25/50\n",
            "\u001b[1m200/200\u001b[0m \u001b[32m━━━━━━━━━━━━━━━━━━━━\u001b[0m\u001b[37m\u001b[0m \u001b[1m1s\u001b[0m 5ms/step - accuracy: 0.9670 - loss: 0.0720 - val_accuracy: 0.7775 - val_loss: 0.5761\n",
            "Epoch 26/50\n",
            "\u001b[1m200/200\u001b[0m \u001b[32m━━━━━━━━━━━━━━━━━━━━\u001b[0m\u001b[37m\u001b[0m \u001b[1m1s\u001b[0m 5ms/step - accuracy: 0.9676 - loss: 0.0722 - val_accuracy: 0.7844 - val_loss: 0.5582\n",
            "Epoch 27/50\n",
            "\u001b[1m200/200\u001b[0m \u001b[32m━━━━━━━━━━━━━━━━━━━━\u001b[0m\u001b[37m\u001b[0m \u001b[1m1s\u001b[0m 5ms/step - accuracy: 0.9643 - loss: 0.0756 - val_accuracy: 0.7656 - val_loss: 0.6192\n",
            "Epoch 28/50\n",
            "\u001b[1m200/200\u001b[0m \u001b[32m━━━━━━━━━━━━━━━━━━━━\u001b[0m\u001b[37m\u001b[0m \u001b[1m1s\u001b[0m 5ms/step - accuracy: 0.9658 - loss: 0.0704 - val_accuracy: 0.7887 - val_loss: 0.5373\n",
            "Epoch 29/50\n",
            "\u001b[1m200/200\u001b[0m \u001b[32m━━━━━━━━━━━━━━━━━━━━\u001b[0m\u001b[37m\u001b[0m \u001b[1m2s\u001b[0m 7ms/step - accuracy: 0.9676 - loss: 0.0685 - val_accuracy: 0.7831 - val_loss: 0.5930\n",
            "Epoch 30/50\n",
            "\u001b[1m200/200\u001b[0m \u001b[32m━━━━━━━━━━━━━━━━━━━━\u001b[0m\u001b[37m\u001b[0m \u001b[1m2s\u001b[0m 6ms/step - accuracy: 0.9671 - loss: 0.0723 - val_accuracy: 0.7588 - val_loss: 0.6991\n",
            "Epoch 31/50\n",
            "\u001b[1m200/200\u001b[0m \u001b[32m━━━━━━━━━━━━━━━━━━━━\u001b[0m\u001b[37m\u001b[0m \u001b[1m1s\u001b[0m 6ms/step - accuracy: 0.9665 - loss: 0.0692 - val_accuracy: 0.7894 - val_loss: 0.5921\n",
            "Epoch 32/50\n",
            "\u001b[1m200/200\u001b[0m \u001b[32m━━━━━━━━━━━━━━━━━━━━\u001b[0m\u001b[37m\u001b[0m \u001b[1m1s\u001b[0m 5ms/step - accuracy: 0.9682 - loss: 0.0691 - val_accuracy: 0.7800 - val_loss: 0.6579\n",
            "Epoch 33/50\n",
            "\u001b[1m200/200\u001b[0m \u001b[32m━━━━━━━━━━━━━━━━━━━━\u001b[0m\u001b[37m\u001b[0m \u001b[1m1s\u001b[0m 5ms/step - accuracy: 0.9689 - loss: 0.0677 - val_accuracy: 0.7556 - val_loss: 0.7460\n",
            "Epoch 34/50\n",
            "\u001b[1m200/200\u001b[0m \u001b[32m━━━━━━━━━━━━━━━━━━━━\u001b[0m\u001b[37m\u001b[0m \u001b[1m1s\u001b[0m 5ms/step - accuracy: 0.9686 - loss: 0.0723 - val_accuracy: 0.7812 - val_loss: 0.6718\n",
            "Epoch 35/50\n",
            "\u001b[1m200/200\u001b[0m \u001b[32m━━━━━━━━━━━━━━━━━━━━\u001b[0m\u001b[37m\u001b[0m \u001b[1m1s\u001b[0m 5ms/step - accuracy: 0.9679 - loss: 0.0683 - val_accuracy: 0.7656 - val_loss: 0.7436\n",
            "Epoch 36/50\n",
            "\u001b[1m200/200\u001b[0m \u001b[32m━━━━━━━━━━━━━━━━━━━━\u001b[0m\u001b[37m\u001b[0m \u001b[1m1s\u001b[0m 5ms/step - accuracy: 0.9661 - loss: 0.0709 - val_accuracy: 0.7487 - val_loss: 0.8318\n",
            "Epoch 37/50\n",
            "\u001b[1m200/200\u001b[0m \u001b[32m━━━━━━━━━━━━━━━━━━━━\u001b[0m\u001b[37m\u001b[0m \u001b[1m1s\u001b[0m 5ms/step - accuracy: 0.9677 - loss: 0.0699 - val_accuracy: 0.7675 - val_loss: 0.7579\n",
            "Epoch 38/50\n",
            "\u001b[1m200/200\u001b[0m \u001b[32m━━━━━━━━━━━━━━━━━━━━\u001b[0m\u001b[37m\u001b[0m \u001b[1m2s\u001b[0m 8ms/step - accuracy: 0.9656 - loss: 0.0713 - val_accuracy: 0.7312 - val_loss: 0.9362\n",
            "Epoch 39/50\n",
            "\u001b[1m200/200\u001b[0m \u001b[32m━━━━━━━━━━━━━━━━━━━━\u001b[0m\u001b[37m\u001b[0m \u001b[1m2s\u001b[0m 6ms/step - accuracy: 0.9647 - loss: 0.0739 - val_accuracy: 0.7744 - val_loss: 0.8465\n",
            "Epoch 40/50\n",
            "\u001b[1m200/200\u001b[0m \u001b[32m━━━━━━━━━━━━━━━━━━━━\u001b[0m\u001b[37m\u001b[0m \u001b[1m2s\u001b[0m 5ms/step - accuracy: 0.9645 - loss: 0.0710 - val_accuracy: 0.7469 - val_loss: 0.9459\n",
            "Epoch 41/50\n",
            "\u001b[1m200/200\u001b[0m \u001b[32m━━━━━━━━━━━━━━━━━━━━\u001b[0m\u001b[37m\u001b[0m \u001b[1m1s\u001b[0m 6ms/step - accuracy: 0.9689 - loss: 0.0657 - val_accuracy: 0.7419 - val_loss: 1.1006\n",
            "Epoch 42/50\n",
            "\u001b[1m200/200\u001b[0m \u001b[32m━━━━━━━━━━━━━━━━━━━━\u001b[0m\u001b[37m\u001b[0m \u001b[1m1s\u001b[0m 5ms/step - accuracy: 0.9683 - loss: 0.0651 - val_accuracy: 0.7287 - val_loss: 1.2663\n",
            "Epoch 43/50\n",
            "\u001b[1m200/200\u001b[0m \u001b[32m━━━━━━━━━━━━━━━━━━━━\u001b[0m\u001b[37m\u001b[0m \u001b[1m1s\u001b[0m 5ms/step - accuracy: 0.9686 - loss: 0.0667 - val_accuracy: 0.7194 - val_loss: 1.3619\n",
            "Epoch 44/50\n",
            "\u001b[1m200/200\u001b[0m \u001b[32m━━━━━━━━━━━━━━━━━━━━\u001b[0m\u001b[37m\u001b[0m \u001b[1m1s\u001b[0m 6ms/step - accuracy: 0.9705 - loss: 0.0623 - val_accuracy: 0.7250 - val_loss: 1.3857\n",
            "Epoch 45/50\n",
            "\u001b[1m200/200\u001b[0m \u001b[32m━━━━━━━━━━━━━━━━━━━━\u001b[0m\u001b[37m\u001b[0m \u001b[1m1s\u001b[0m 6ms/step - accuracy: 0.9676 - loss: 0.0678 - val_accuracy: 0.7331 - val_loss: 1.3393\n",
            "Epoch 46/50\n",
            "\u001b[1m200/200\u001b[0m \u001b[32m━━━━━━━━━━━━━━━━━━━━\u001b[0m\u001b[37m\u001b[0m \u001b[1m2s\u001b[0m 8ms/step - accuracy: 0.9670 - loss: 0.0688 - val_accuracy: 0.7287 - val_loss: 1.5290\n",
            "Epoch 47/50\n",
            "\u001b[1m200/200\u001b[0m \u001b[32m━━━━━━━━━━━━━━━━━━━━\u001b[0m\u001b[37m\u001b[0m \u001b[1m3s\u001b[0m 9ms/step - accuracy: 0.9716 - loss: 0.0609 - val_accuracy: 0.7281 - val_loss: 1.6359\n",
            "Epoch 48/50\n",
            "\u001b[1m200/200\u001b[0m \u001b[32m━━━━━━━━━━━━━━━━━━━━\u001b[0m\u001b[37m\u001b[0m \u001b[1m1s\u001b[0m 6ms/step - accuracy: 0.9693 - loss: 0.0640 - val_accuracy: 0.7262 - val_loss: 1.8529\n",
            "Epoch 49/50\n",
            "\u001b[1m200/200\u001b[0m \u001b[32m━━━━━━━━━━━━━━━━━━━━\u001b[0m\u001b[37m\u001b[0m \u001b[1m1s\u001b[0m 6ms/step - accuracy: 0.9692 - loss: 0.0651 - val_accuracy: 0.7194 - val_loss: 1.9441\n",
            "Epoch 50/50\n",
            "\u001b[1m200/200\u001b[0m \u001b[32m━━━━━━━━━━━━━━━━━━━━\u001b[0m\u001b[37m\u001b[0m \u001b[1m1s\u001b[0m 6ms/step - accuracy: 0.9671 - loss: 0.0678 - val_accuracy: 0.7281 - val_loss: 2.0178\n"
          ]
        }
      ]
    },
    {
      "cell_type": "markdown",
      "source": [
        "Melatih model selama 50 epoch dengan ukuran batch 32. 20% dari data pelatihan digunakan untuk validasi."
      ],
      "metadata": {
        "id": "lgbwQv_qgDOo"
      }
    },
    {
      "cell_type": "markdown",
      "source": [
        "# Menevaluasi Model"
      ],
      "metadata": {
        "id": "DIuYc2k7gHOZ"
      }
    },
    {
      "cell_type": "code",
      "source": [
        "test_loss, test_acc = model.evaluate(X_test, y_test, verbose=1)"
      ],
      "metadata": {
        "colab": {
          "base_uri": "https://localhost:8080/"
        },
        "id": "k2KkaRNtbbCh",
        "outputId": "23bce21e-bfd1-4797-8881-613ad897c7b3"
      },
      "execution_count": 12,
      "outputs": [
        {
          "output_type": "stream",
          "name": "stdout",
          "text": [
            "\u001b[1m63/63\u001b[0m \u001b[32m━━━━━━━━━━━━━━━━━━━━\u001b[0m\u001b[37m\u001b[0m \u001b[1m0s\u001b[0m 2ms/step - accuracy: 0.7389 - loss: 0.4225\n"
          ]
        }
      ]
    },
    {
      "cell_type": "code",
      "source": [
        "test_acc_percentage = test_acc * 100\n",
        "print(f'Test accuracy: {test_acc_percentage:.2f}%')"
      ],
      "metadata": {
        "colab": {
          "base_uri": "https://localhost:8080/"
        },
        "id": "CE35Vd_yb9Hf",
        "outputId": "38e2d6a3-d701-4432-ac9f-d85555a66158"
      },
      "execution_count": 15,
      "outputs": [
        {
          "output_type": "stream",
          "name": "stdout",
          "text": [
            "Test accuracy: 74.15%\n"
          ]
        }
      ]
    },
    {
      "cell_type": "markdown",
      "source": [
        "Mengevaluasi model menggunakan data pengujian dan menyimpan nilai kehilangan (loss) dan akurasi."
      ],
      "metadata": {
        "id": "BTJN2e4NgNU_"
      }
    },
    {
      "cell_type": "markdown",
      "source": [
        "Mengonversi akurasi pengujian ke dalam persentase dan mencetaknya"
      ],
      "metadata": {
        "id": "L8oYlSdvgQPX"
      }
    },
    {
      "cell_type": "markdown",
      "source": [
        "# Mencetak Riwayat Akurasi Pelatihan dan Validasi"
      ],
      "metadata": {
        "id": "d0Q7GSzLgYYD"
      }
    },
    {
      "cell_type": "code",
      "source": [
        "train_accuracy = history.history['accuracy']\n",
        "val_accuracy = history.history['val_accuracy']"
      ],
      "metadata": {
        "id": "nzmVlU8odGf2"
      },
      "execution_count": 27,
      "outputs": []
    },
    {
      "cell_type": "code",
      "source": [
        "train_accuracy_percentage = [acc * 100 for acc in train_accuracy]\n",
        "val_accuracy_percentage = [acc * 100 for acc in val_accuracy]"
      ],
      "metadata": {
        "id": "n-dficZOdK21"
      },
      "execution_count": 21,
      "outputs": []
    },
    {
      "cell_type": "code",
      "source": [
        "print(\"\\nTraining Accuracy (in %):\")\n",
        "for epoch, acc in enumerate(train_accuracy_percentage):\n",
        "    print(f\"Epoch {epoch + 1}: {acc:.2f}%\")"
      ],
      "metadata": {
        "colab": {
          "base_uri": "https://localhost:8080/"
        },
        "id": "QlmJhsEWdaCn",
        "outputId": "7704a01f-f6b0-4540-ddca-b6f42779d9ab"
      },
      "execution_count": 23,
      "outputs": [
        {
          "output_type": "stream",
          "name": "stdout",
          "text": [
            "\n",
            "Training Accuracy (in %):\n",
            "Epoch 1: 81.05%\n",
            "Epoch 2: 92.89%\n",
            "Epoch 3: 96.28%\n",
            "Epoch 4: 96.45%\n",
            "Epoch 5: 96.42%\n",
            "Epoch 6: 96.47%\n",
            "Epoch 7: 96.50%\n",
            "Epoch 8: 96.52%\n",
            "Epoch 9: 96.50%\n",
            "Epoch 10: 96.52%\n",
            "Epoch 11: 96.56%\n",
            "Epoch 12: 96.56%\n",
            "Epoch 13: 96.45%\n",
            "Epoch 14: 96.56%\n",
            "Epoch 15: 96.50%\n",
            "Epoch 16: 96.53%\n",
            "Epoch 17: 96.55%\n",
            "Epoch 18: 96.50%\n",
            "Epoch 19: 96.53%\n",
            "Epoch 20: 96.48%\n",
            "Epoch 21: 96.58%\n",
            "Epoch 22: 96.56%\n",
            "Epoch 23: 96.63%\n",
            "Epoch 24: 96.47%\n",
            "Epoch 25: 96.53%\n",
            "Epoch 26: 96.59%\n",
            "Epoch 27: 96.64%\n",
            "Epoch 28: 96.64%\n",
            "Epoch 29: 96.56%\n",
            "Epoch 30: 96.66%\n",
            "Epoch 31: 96.58%\n",
            "Epoch 32: 96.61%\n",
            "Epoch 33: 96.61%\n",
            "Epoch 34: 96.72%\n",
            "Epoch 35: 96.58%\n",
            "Epoch 36: 96.61%\n",
            "Epoch 37: 96.67%\n",
            "Epoch 38: 96.63%\n",
            "Epoch 39: 96.75%\n",
            "Epoch 40: 96.61%\n",
            "Epoch 41: 96.70%\n",
            "Epoch 42: 96.70%\n",
            "Epoch 43: 96.75%\n",
            "Epoch 44: 96.75%\n",
            "Epoch 45: 96.81%\n",
            "Epoch 46: 96.80%\n",
            "Epoch 47: 96.89%\n",
            "Epoch 48: 96.81%\n",
            "Epoch 49: 96.83%\n",
            "Epoch 50: 96.78%\n"
          ]
        }
      ]
    },
    {
      "cell_type": "code",
      "source": [
        "print(\"\\nValidation Accuracy (in %):\")\n",
        "for epoch, acc in enumerate(val_accuracy_percentage):\n",
        "    print(f\"Epoch {epoch + 1}: {acc:.2f}%\")"
      ],
      "metadata": {
        "colab": {
          "base_uri": "https://localhost:8080/"
        },
        "id": "P-iMwvZ9db1w",
        "outputId": "360acc6e-2ba7-4d29-8379-fe25cc181d2b"
      },
      "execution_count": 24,
      "outputs": [
        {
          "output_type": "stream",
          "name": "stdout",
          "text": [
            "\n",
            "Validation Accuracy (in %):\n",
            "Epoch 1: 84.56%\n",
            "Epoch 2: 87.94%\n",
            "Epoch 3: 87.37%\n",
            "Epoch 4: 86.94%\n",
            "Epoch 5: 85.69%\n",
            "Epoch 6: 84.94%\n",
            "Epoch 7: 82.19%\n",
            "Epoch 8: 83.13%\n",
            "Epoch 9: 83.63%\n",
            "Epoch 10: 82.94%\n",
            "Epoch 11: 82.63%\n",
            "Epoch 12: 82.56%\n",
            "Epoch 13: 80.81%\n",
            "Epoch 14: 81.06%\n",
            "Epoch 15: 81.75%\n",
            "Epoch 16: 80.75%\n",
            "Epoch 17: 78.69%\n",
            "Epoch 18: 80.62%\n",
            "Epoch 19: 80.50%\n",
            "Epoch 20: 80.44%\n",
            "Epoch 21: 79.06%\n",
            "Epoch 22: 79.44%\n",
            "Epoch 23: 78.69%\n",
            "Epoch 24: 78.37%\n",
            "Epoch 25: 77.75%\n",
            "Epoch 26: 78.44%\n",
            "Epoch 27: 76.56%\n",
            "Epoch 28: 78.87%\n",
            "Epoch 29: 78.31%\n",
            "Epoch 30: 75.88%\n",
            "Epoch 31: 78.94%\n",
            "Epoch 32: 78.00%\n",
            "Epoch 33: 75.56%\n",
            "Epoch 34: 78.12%\n",
            "Epoch 35: 76.56%\n",
            "Epoch 36: 74.87%\n",
            "Epoch 37: 76.75%\n",
            "Epoch 38: 73.12%\n",
            "Epoch 39: 77.44%\n",
            "Epoch 40: 74.69%\n",
            "Epoch 41: 74.19%\n",
            "Epoch 42: 72.87%\n",
            "Epoch 43: 71.94%\n",
            "Epoch 44: 72.50%\n",
            "Epoch 45: 73.31%\n",
            "Epoch 46: 72.87%\n",
            "Epoch 47: 72.81%\n",
            "Epoch 48: 72.62%\n",
            "Epoch 49: 71.94%\n",
            "Epoch 50: 72.81%\n"
          ]
        }
      ]
    },
    {
      "cell_type": "markdown",
      "source": [
        "Mencetak akurasi pelatihan dan validasi untuk setiap epoch dalam format persentase."
      ],
      "metadata": {
        "id": "zel9woDogeNR"
      }
    },
    {
      "cell_type": "markdown",
      "source": [
        "# Menampilkan Rata-rata Akurasi"
      ],
      "metadata": {
        "id": "CDD4tVjQgiEn"
      }
    },
    {
      "cell_type": "code",
      "source": [
        "avg_train_acc = sum(train_accuracy_percentage) / len(train_accuracy_percentage)\n",
        "avg_val_acc = sum(val_accuracy_percentage) / len(val_accuracy_percentage)"
      ],
      "metadata": {
        "id": "lrHJDnOEdgo6"
      },
      "execution_count": 25,
      "outputs": []
    },
    {
      "cell_type": "code",
      "source": [
        "print(f\"\\nAverage Training Accuracy: {avg_train_acc:.2f}%\")\n",
        "print(f\"Average Validation Accuracy: {avg_val_acc:.2f}%\")"
      ],
      "metadata": {
        "colab": {
          "base_uri": "https://localhost:8080/"
        },
        "id": "VuPVDAYOdiVh",
        "outputId": "490babbd-8347-4a24-8fd0-273a53512450"
      },
      "execution_count": 26,
      "outputs": [
        {
          "output_type": "stream",
          "name": "stdout",
          "text": [
            "\n",
            "Average Training Accuracy: 96.22%\n",
            "Average Validation Accuracy: 78.65%\n"
          ]
        }
      ]
    },
    {
      "cell_type": "markdown",
      "source": [
        "Menghitung dan mencetak rata-rata akurasi pelatihan dan validasi."
      ],
      "metadata": {
        "id": "coUjmZYSgoUm"
      }
    }
  ]
}